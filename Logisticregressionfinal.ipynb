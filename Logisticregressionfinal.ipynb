{
 "cells": [
  {
   "cell_type": "code",
   "execution_count": 1,
   "id": "acd9704f-c003-4f15-8e28-e05d89867deb",
   "metadata": {},
   "outputs": [],
   "source": [
    "import numpy as np\n",
    "import pandas as pd\n",
    "import matplotlib.pyplot as plt\n",
    "from pyspark.ml.feature import VectorAssembler \n",
    "from pyspark.ml.regression import LinearRegression"
   ]
  },
  {
   "cell_type": "code",
   "execution_count": 29,
   "id": "c3760296-fa95-4d87-93ec-85c51a527c6c",
   "metadata": {},
   "outputs": [
    {
     "data": {
      "text/html": [
       "<div>\n",
       "<style scoped>\n",
       "    .dataframe tbody tr th:only-of-type {\n",
       "        vertical-align: middle;\n",
       "    }\n",
       "\n",
       "    .dataframe tbody tr th {\n",
       "        vertical-align: top;\n",
       "    }\n",
       "\n",
       "    .dataframe thead th {\n",
       "        text-align: right;\n",
       "    }\n",
       "</style>\n",
       "<table border=\"1\" class=\"dataframe\">\n",
       "  <thead>\n",
       "    <tr style=\"text-align: right;\">\n",
       "      <th></th>\n",
       "      <th>Age</th>\n",
       "      <th>Stores</th>\n",
       "      <th>Price</th>\n",
       "    </tr>\n",
       "  </thead>\n",
       "  <tbody>\n",
       "    <tr>\n",
       "      <th>0</th>\n",
       "      <td>32.0</td>\n",
       "      <td>10</td>\n",
       "      <td>37.9</td>\n",
       "    </tr>\n",
       "    <tr>\n",
       "      <th>1</th>\n",
       "      <td>34.5</td>\n",
       "      <td>7</td>\n",
       "      <td>40.3</td>\n",
       "    </tr>\n",
       "    <tr>\n",
       "      <th>2</th>\n",
       "      <td>20.3</td>\n",
       "      <td>6</td>\n",
       "      <td>46.7</td>\n",
       "    </tr>\n",
       "    <tr>\n",
       "      <th>3</th>\n",
       "      <td>31.7</td>\n",
       "      <td>1</td>\n",
       "      <td>18.8</td>\n",
       "    </tr>\n",
       "    <tr>\n",
       "      <th>4</th>\n",
       "      <td>34.8</td>\n",
       "      <td>1</td>\n",
       "      <td>41.4</td>\n",
       "    </tr>\n",
       "    <tr>\n",
       "      <th>...</th>\n",
       "      <td>...</td>\n",
       "      <td>...</td>\n",
       "      <td>...</td>\n",
       "    </tr>\n",
       "    <tr>\n",
       "      <th>132</th>\n",
       "      <td>21.2</td>\n",
       "      <td>4</td>\n",
       "      <td>42.5</td>\n",
       "    </tr>\n",
       "    <tr>\n",
       "      <th>133</th>\n",
       "      <td>37.1</td>\n",
       "      <td>1</td>\n",
       "      <td>31.9</td>\n",
       "    </tr>\n",
       "    <tr>\n",
       "      <th>134</th>\n",
       "      <td>26.8</td>\n",
       "      <td>5</td>\n",
       "      <td>35.5</td>\n",
       "    </tr>\n",
       "    <tr>\n",
       "      <th>135</th>\n",
       "      <td>30.9</td>\n",
       "      <td>9</td>\n",
       "      <td>39.7</td>\n",
       "    </tr>\n",
       "    <tr>\n",
       "      <th>136</th>\n",
       "      <td>23.0</td>\n",
       "      <td>6</td>\n",
       "      <td>37.2</td>\n",
       "    </tr>\n",
       "  </tbody>\n",
       "</table>\n",
       "<p>137 rows × 3 columns</p>\n",
       "</div>"
      ],
      "text/plain": [
       "      Age  Stores  Price\n",
       "0    32.0      10   37.9\n",
       "1    34.5       7   40.3\n",
       "2    20.3       6   46.7\n",
       "3    31.7       1   18.8\n",
       "4    34.8       1   41.4\n",
       "..    ...     ...    ...\n",
       "132  21.2       4   42.5\n",
       "133  37.1       1   31.9\n",
       "134  26.8       5   35.5\n",
       "135  30.9       9   39.7\n",
       "136  23.0       6   37.2\n",
       "\n",
       "[137 rows x 3 columns]"
      ]
     },
     "execution_count": 29,
     "metadata": {},
     "output_type": "execute_result"
    }
   ],
   "source": [
    "data = pd.read_csv(\"real_estate.csv\")\n",
    "data"
   ]
  },
  {
   "cell_type": "code",
   "execution_count": 3,
   "id": "f209b42c-b564-4652-b8ad-86af10af46f0",
   "metadata": {},
   "outputs": [
    {
     "name": "stdout",
     "output_type": "stream",
     "text": [
      "+----+------+-----+\n",
      "| Age|Stores|Price|\n",
      "+----+------+-----+\n",
      "|32.0|    10| 37.9|\n",
      "|34.5|     7| 40.3|\n",
      "|20.3|     6| 46.7|\n",
      "|31.7|     1| 18.8|\n",
      "|34.8|     1| 41.4|\n",
      "|20.4|     4| 23.8|\n",
      "|35.7|     2| 50.5|\n",
      "|39.6|     4| 38.8|\n",
      "|29.3|     2| 27.0|\n",
      "|25.9|     0| 22.1|\n",
      "|29.6|     7| 25.0|\n",
      "|37.9|     1| 34.2|\n",
      "|36.1|     5| 34.7|\n",
      "|34.4|     6| 34.1|\n",
      "|36.6|     8| 38.3|\n",
      "|21.7|     9| 42.0|\n",
      "|35.9|     3| 61.5|\n",
      "|24.2|     0| 13.4|\n",
      "|29.4|     1| 13.2|\n",
      "|21.7|     4| 44.2|\n",
      "+----+------+-----+\n",
      "only showing top 20 rows\n",
      "\n"
     ]
    }
   ],
   "source": [
    "df = spark.createDataFrame(df)\n",
    "df.show()"
   ]
  },
  {
   "cell_type": "code",
   "execution_count": 4,
   "id": "e1f14267-9868-4763-a3a4-6d0d592ac29c",
   "metadata": {},
   "outputs": [],
   "source": [
    "df = VectorAssembler(inputCols=[\"Age\"],outputCol = \"feature1\").transform(df)"
   ]
  },
  {
   "cell_type": "code",
   "execution_count": 5,
   "id": "f912a723-c195-448b-a214-8389ff0023f8",
   "metadata": {},
   "outputs": [
    {
     "name": "stdout",
     "output_type": "stream",
     "text": [
      "+----+------+-----+--------+\n",
      "| Age|Stores|Price|feature1|\n",
      "+----+------+-----+--------+\n",
      "|32.0|    10| 37.9|  [32.0]|\n",
      "|34.5|     7| 40.3|  [34.5]|\n",
      "|20.3|     6| 46.7|  [20.3]|\n",
      "|31.7|     1| 18.8|  [31.7]|\n",
      "|34.8|     1| 41.4|  [34.8]|\n",
      "|20.4|     4| 23.8|  [20.4]|\n",
      "|35.7|     2| 50.5|  [35.7]|\n",
      "|39.6|     4| 38.8|  [39.6]|\n",
      "|29.3|     2| 27.0|  [29.3]|\n",
      "|25.9|     0| 22.1|  [25.9]|\n",
      "|29.6|     7| 25.0|  [29.6]|\n",
      "|37.9|     1| 34.2|  [37.9]|\n",
      "|36.1|     5| 34.7|  [36.1]|\n",
      "|34.4|     6| 34.1|  [34.4]|\n",
      "|36.6|     8| 38.3|  [36.6]|\n",
      "|21.7|     9| 42.0|  [21.7]|\n",
      "|35.9|     3| 61.5|  [35.9]|\n",
      "|24.2|     0| 13.4|  [24.2]|\n",
      "|29.4|     1| 13.2|  [29.4]|\n",
      "|21.7|     4| 44.2|  [21.7]|\n",
      "+----+------+-----+--------+\n",
      "only showing top 20 rows\n",
      "\n"
     ]
    }
   ],
   "source": [
    "df.show()"
   ]
  },
  {
   "cell_type": "code",
   "execution_count": 6,
   "id": "5994f46f-be1b-49ca-b803-6d7d1864f7d1",
   "metadata": {},
   "outputs": [],
   "source": [
    "model = LinearRegression(featuresCol = \"feature1\",labelCol = \"Price\").fit(df)"
   ]
  },
  {
   "cell_type": "code",
   "execution_count": 7,
   "id": "5c789ce7-28f3-4559-acb2-d3b27430514d",
   "metadata": {},
   "outputs": [
    {
     "data": {
      "text/plain": [
       "DenseVector([0.7789])"
      ]
     },
     "execution_count": 7,
     "metadata": {},
     "output_type": "execute_result"
    }
   ],
   "source": [
    "model.coefficients"
   ]
  },
  {
   "cell_type": "code",
   "execution_count": 8,
   "id": "c5cb6522-c754-4f13-93dd-e15cef3115cd",
   "metadata": {},
   "outputs": [
    {
     "data": {
      "text/plain": [
       "11.09675060457198"
      ]
     },
     "execution_count": 8,
     "metadata": {},
     "output_type": "execute_result"
    }
   ],
   "source": [
    "model.intercept"
   ]
  },
  {
   "cell_type": "code",
   "execution_count": 11,
   "id": "4370d2d5-f62b-4e0d-abd4-637a8a47f602",
   "metadata": {},
   "outputs": [
    {
     "data": {
      "text/plain": [
       "11.606676815627182"
      ]
     },
     "execution_count": 11,
     "metadata": {},
     "output_type": "execute_result"
    }
   ],
   "source": [
    "model.summary.rootMeanSquaredError"
   ]
  },
  {
   "cell_type": "code",
   "execution_count": 37,
   "id": "6d31c9d3-7392-4db1-ab20-e2b6d82dd5cd",
   "metadata": {},
   "outputs": [
    {
     "data": {
      "image/png": "[encoded data removed]",
      "text/plain": [
       "<Figure size 432x288 with 1 Axes>"
      ]
     },
     "metadata": {
      "needs_background": "light"
     },
     "output_type": "display_data"
    }
   ],
   "source": [
    "x = np.linspace(20,30,1)\n",
    "y = np.linspace(0,70,100)\n",
    "plt.plot(x,0.7789*x+11.09675060457198,color=\"red\")\n",
    "plt.scatter(data[\"Age\"],data[\"Price\"])\n",
    "plt.show()"
   ]
  },
  {
   "cell_type": "code",
   "execution_count": 12,
   "id": "f6bf62b0-3ae9-4577-868d-71a9e02e05cd",
   "metadata": {},
   "outputs": [],
   "source": [
    "df1 = VectorAssembler(inputCols=[\"Age\",\"Stores\"],outputCol = \"feature2\").transform(df)"
   ]
  },
  {
   "cell_type": "code",
   "execution_count": 13,
   "id": "db3e383f-ca1b-4731-9dbb-01e854048a7e",
   "metadata": {},
   "outputs": [
    {
     "name": "stdout",
     "output_type": "stream",
     "text": [
      "+----+------+-----+--------+-----------+\n",
      "| Age|Stores|Price|feature1|   feature2|\n",
      "+----+------+-----+--------+-----------+\n",
      "|32.0|    10| 37.9|  [32.0]|[32.0,10.0]|\n",
      "|34.5|     7| 40.3|  [34.5]| [34.5,7.0]|\n",
      "|20.3|     6| 46.7|  [20.3]| [20.3,6.0]|\n",
      "|31.7|     1| 18.8|  [31.7]| [31.7,1.0]|\n",
      "|34.8|     1| 41.4|  [34.8]| [34.8,1.0]|\n",
      "|20.4|     4| 23.8|  [20.4]| [20.4,4.0]|\n",
      "|35.7|     2| 50.5|  [35.7]| [35.7,2.0]|\n",
      "|39.6|     4| 38.8|  [39.6]| [39.6,4.0]|\n",
      "|29.3|     2| 27.0|  [29.3]| [29.3,2.0]|\n",
      "|25.9|     0| 22.1|  [25.9]| [25.9,0.0]|\n",
      "|29.6|     7| 25.0|  [29.6]| [29.6,7.0]|\n",
      "|37.9|     1| 34.2|  [37.9]| [37.9,1.0]|\n",
      "|36.1|     5| 34.7|  [36.1]| [36.1,5.0]|\n",
      "|34.4|     6| 34.1|  [34.4]| [34.4,6.0]|\n",
      "|36.6|     8| 38.3|  [36.6]| [36.6,8.0]|\n",
      "|21.7|     9| 42.0|  [21.7]| [21.7,9.0]|\n",
      "|35.9|     3| 61.5|  [35.9]| [35.9,3.0]|\n",
      "|24.2|     0| 13.4|  [24.2]| [24.2,0.0]|\n",
      "|29.4|     1| 13.2|  [29.4]| [29.4,1.0]|\n",
      "|21.7|     4| 44.2|  [21.7]| [21.7,4.0]|\n",
      "+----+------+-----+--------+-----------+\n",
      "only showing top 20 rows\n",
      "\n"
     ]
    }
   ],
   "source": [
    "df1.show()"
   ]
  },
  {
   "cell_type": "code",
   "execution_count": 15,
   "id": "a835b06f-1b43-4133-8437-ca3c54986f09",
   "metadata": {},
   "outputs": [],
   "source": [
    "model = LinearRegression(featuresCol = \"feature2\",labelCol = \"Price\").fit(df1)"
   ]
  },
  {
   "cell_type": "code",
   "execution_count": 16,
   "id": "c51698a4-e525-409c-b4a9-b6029a4193e1",
   "metadata": {},
   "outputs": [
    {
     "data": {
      "text/plain": [
       "DenseVector([0.5277, 2.2254])"
      ]
     },
     "execution_count": 16,
     "metadata": {},
     "output_type": "execute_result"
    }
   ],
   "source": [
    "model.coefficients"
   ]
  },
  {
   "cell_type": "code",
   "execution_count": 17,
   "id": "e153a6fe-a07d-48c3-8c1c-9c25fe885e16",
   "metadata": {},
   "outputs": [
    {
     "data": {
      "text/plain": [
       "8.856805380062555"
      ]
     },
     "execution_count": 17,
     "metadata": {},
     "output_type": "execute_result"
    }
   ],
   "source": [
    "model.intercept"
   ]
  },
  {
   "cell_type": "code",
   "execution_count": 18,
   "id": "c25de248-ae0c-4f17-ad6c-72e6d2487265",
   "metadata": {},
   "outputs": [
    {
     "data": {
      "text/plain": [
       "9.389195227388173"
      ]
     },
     "execution_count": 18,
     "metadata": {},
     "output_type": "execute_result"
    }
   ],
   "source": [
    "model.summary.rootMeanSquaredError"
   ]
  },
  {
   "cell_type": "code",
   "execution_count": null,
   "id": "71164e5d-cfdb-45b6-8ad2-27ce47c81281",
   "metadata": {},
   "outputs": [],
   "source": []
  }
 ],
 "metadata": {
  "kernelspec": {
   "display_name": "PySpark",
   "language": "python",
   "name": "pyspark"
  },
  "language_info": {
   "codemirror_mode": {
    "name": "ipython",
    "version": 3
   },
   "file_extension": ".py",
   "mimetype": "text/x-python",
   "name": "python",
   "nbconvert_exporter": "python",
   "pygments_lexer": "ipython3",
   "version": "3.8.8"
  }
 },
 "nbformat": 4,
 "nbformat_minor": 5
}
